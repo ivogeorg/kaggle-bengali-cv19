{
 "cells": [
  {
   "cell_type": "markdown",
   "metadata": {},
   "source": [
    "# Kaggle Bengali Handwritten Grapheme Classification\n",
    "\n",
    "**Acknowledgements:**\n",
    "1. [Competition](https://www.kaggle.com/c/bengaliai-cv19) on Kaggle.  \n",
    "2. [Notebook](https://www.kaggle.com/cdeotte/how-to-compete-with-gpus-workshop) by Chris Deotte.  \n",
    "3. [Video](https://www.youtube.com/watch?v=DEuvGh4ZwaY) on YouTube of the Accelerator Power Hour with Kaggle Grandmasters.  \n",
    "\n",
    "**References:**\n",
    "1. [EfficientNet](https://arxiv.org/abs/1905.11946) model.  \n",
    "2. [Pretrained](https://github.com/lukemelas/EfficientNet-PyTorch) EfficientNet (PyTorch).  \n",
    "\n",
    "\n",
    "**Table of contents:**\n",
    "1. \n",
    "2. "
   ]
  },
  {
   "cell_type": "code",
   "execution_count": null,
   "metadata": {},
   "outputs": [],
   "source": []
  }
 ],
 "metadata": {
  "kernelspec": {
   "display_name": "Python 3",
   "language": "python",
   "name": "python3"
  },
  "language_info": {
   "codemirror_mode": {
    "name": "ipython",
    "version": 3
   },
   "file_extension": ".py",
   "mimetype": "text/x-python",
   "name": "python",
   "nbconvert_exporter": "python",
   "pygments_lexer": "ipython3",
   "version": "3.7.7"
  }
 },
 "nbformat": 4,
 "nbformat_minor": 4
}
